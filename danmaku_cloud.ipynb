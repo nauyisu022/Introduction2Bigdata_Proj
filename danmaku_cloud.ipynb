{
 "cells": [
  {
   "cell_type": "code",
   "execution_count": 1,
   "metadata": {
    "collapsed": true
   },
   "outputs": [],
   "source": [
    "import pandas as pd\n",
    "import pyecharts.options as opts\n",
    "from pyecharts.charts import WordCloud"
   ]
  },
  {
   "cell_type": "code",
   "execution_count": 2,
   "outputs": [],
   "source": [
    "dm={}\n",
    "with open(\"data/words/all_words\", \"r\",encoding='utf-8') as f:\n",
    "    all_data = f.readlines()\n",
    "    for data in all_data:\n",
    "        pair=data.split()\n",
    "        if(len(pair)==2 and len(pair[0])!=1):\n",
    "\n",
    "            dm[pair[0]]=int(pair[1])"
   ],
   "metadata": {
    "collapsed": false
   }
  },
  {
   "cell_type": "code",
   "execution_count": 2,
   "outputs": [],
   "source": [],
   "metadata": {
    "collapsed": false
   }
  },
  {
   "cell_type": "code",
   "execution_count": 3,
   "outputs": [
    {
     "data": {
      "text/plain": "       times\n哈哈哈  7379061\n这个    731398\n啊啊啊   608462\n哈哈    546228\n真的    484082\n..       ...\n屏坑         1\n屏墓         1\n屏壁         1\n屏声         1\n龟龟龙        1\n\n[1215693 rows x 1 columns]",
      "text/html": "<div>\n<style scoped>\n    .dataframe tbody tr th:only-of-type {\n        vertical-align: middle;\n    }\n\n    .dataframe tbody tr th {\n        vertical-align: top;\n    }\n\n    .dataframe thead th {\n        text-align: right;\n    }\n</style>\n<table border=\"1\" class=\"dataframe\">\n  <thead>\n    <tr style=\"text-align: right;\">\n      <th></th>\n      <th>times</th>\n    </tr>\n  </thead>\n  <tbody>\n    <tr>\n      <th>哈哈哈</th>\n      <td>7379061</td>\n    </tr>\n    <tr>\n      <th>这个</th>\n      <td>731398</td>\n    </tr>\n    <tr>\n      <th>啊啊啊</th>\n      <td>608462</td>\n    </tr>\n    <tr>\n      <th>哈哈</th>\n      <td>546228</td>\n    </tr>\n    <tr>\n      <th>真的</th>\n      <td>484082</td>\n    </tr>\n    <tr>\n      <th>...</th>\n      <td>...</td>\n    </tr>\n    <tr>\n      <th>屏坑</th>\n      <td>1</td>\n    </tr>\n    <tr>\n      <th>屏墓</th>\n      <td>1</td>\n    </tr>\n    <tr>\n      <th>屏壁</th>\n      <td>1</td>\n    </tr>\n    <tr>\n      <th>屏声</th>\n      <td>1</td>\n    </tr>\n    <tr>\n      <th>龟龟龙</th>\n      <td>1</td>\n    </tr>\n  </tbody>\n</table>\n<p>1215693 rows × 1 columns</p>\n</div>"
     },
     "execution_count": 3,
     "metadata": {},
     "output_type": "execute_result"
    }
   ],
   "source": [
    "dmdf=pd.DataFrame(dm,index=['times']).T\n",
    "dmdf.sort_values(by='times', ascending=False, inplace=True)\n",
    "dmdf"
   ],
   "metadata": {
    "collapsed": false
   }
  },
  {
   "cell_type": "code",
   "execution_count": 4,
   "outputs": [
    {
     "data": {
      "text/plain": "[('哈哈哈', 7379061),\n ('这个', 731398),\n ('啊啊啊', 608462),\n ('哈哈', 546228),\n ('真的', 484082),\n ('就是', 460083),\n ('不是', 450285),\n ('一个', 373781),\n ('泪目', 362878),\n ('什么', 342240),\n ('没有', 333724),\n ('可以', 331366),\n ('可爱', 305958),\n ('卧槽', 288337),\n ('怎么', 279608),\n ('我们', 271578),\n ('这么', 255065),\n ('自己', 254426),\n ('喜欢', 233634),\n ('来了', 223483),\n ('老师', 217863),\n ('牛逼', 217263),\n ('加油', 216099),\n ('ohhh', 212180),\n ('还是', 210674),\n ('知道', 200921),\n ('感觉', 188679),\n ('现在', 186246),\n ('爱酱', 183774),\n ('已经', 177220),\n ('hhh', 173049),\n ('666', 164367),\n ('那个', 163650),\n ('为什么', 162502),\n ('三连', 160687),\n ('你们', 157986),\n ('致敬', 157340),\n ('这是', 155894),\n ('谢谢', 154444),\n ('bgm', 153445),\n ('好看', 152806),\n ('不会', 151461),\n ('弹幕', 150824),\n ('开始', 149282),\n ('doge', 149041),\n ('呜呜', 143363),\n ('辛苦', 142605),\n ('nb', 141699),\n ('觉得', 139204),\n ('这样', 138829),\n ('好像', 138806),\n ('好家伙', 137623),\n ('不要', 137266),\n ('厉害', 136147),\n ('一样', 135942),\n ('up', 135031),\n ('直接', 133524),\n ('还有', 132920),\n ('时候', 130193),\n ('视频', 128575),\n ('有点', 126365),\n ('这里', 125838),\n ('中国', 124500),\n ('确实', 121162),\n ('看到', 120024),\n ('哭了', 119027),\n ('所以', 117338),\n ('应该', 117210),\n ('快乐', 115411),\n ('出来', 114584),\n ('真实', 112338),\n ('游戏', 112030),\n ('不能', 109572),\n ('老婆', 105091),\n ('一下', 104161),\n ('233', 102906),\n ('好好', 100881),\n ('一定', 100798),\n ('可能', 99880),\n ('世界', 98808),\n ('因为', 96711),\n ('好听', 95644),\n ('新年快乐', 95011),\n ('但是', 94945),\n ('他们', 94686),\n ('起来', 93352),\n ('以为', 92432),\n ('兄弟', 91828),\n ('生日快乐', 91550),\n ('离谱', 89123),\n ('害怕', 88346),\n ('一直', 86728),\n ('笑死我了', 85021),\n ('爱了', 84735),\n ('那么', 84339),\n ('绝了', 83832),\n ('恭喜', 82363),\n ('这种', 82150),\n ('我要', 80528),\n ('是不是', 78499),\n ('两个', 78086),\n ('问题', 77904),\n ('突然', 77713),\n ('前面', 76997),\n ('大家', 76796),\n ('保护', 75749),\n ('东西', 75696),\n ('感谢', 75634),\n ('好吃', 75248),\n ('刘耀文', 74778),\n ('一起', 74358),\n ('张真源', 74355),\n ('好帅', 73815),\n ('完了', 73651),\n ('下次一定', 73425),\n ('爷青回', 72591),\n ('不行', 72500),\n ('永远', 71320),\n ('其实', 70509),\n ('看过', 70304),\n ('为了', 69874),\n ('原来', 69679),\n ('手机', 68900),\n ('热乎', 68538),\n ('专业', 68117),\n ('居然', 68071),\n ('必看', 67736),\n ('救命', 66482),\n ('最后', 66225),\n ('每周', 66207),\n ('孩子', 65875),\n ('声音', 64791),\n ('不错', 64240),\n ('宋亚轩', 63442),\n ('99', 63173),\n ('丁程鑫', 62995),\n ('只有', 62794),\n ('投币', 61126),\n ('姐姐', 60521),\n ('发现', 60203),\n ('终于', 59585),\n ('妈妈', 57061),\n ('后面', 57052),\n ('真是', 56837),\n ('一点', 56306),\n ('老板', 55109),\n ('yyds', 54773),\n ('希望', 54281),\n ('如果', 54075),\n ('回来', 53436),\n ('漂亮', 53410),\n ('表示', 53177),\n ('起立', 52883),\n ('好评', 52804),\n ('必须', 52708),\n ('只是', 52580),\n ('排面', 52140),\n ('然后', 52123),\n ('前方高能', 51801),\n ('记得', 51743),\n ('有人', 51299),\n ('美国', 51003),\n ('需要', 50900),\n ('朋友', 50774),\n ('大佬', 50771),\n ('tm', 50214),\n ('时间', 49593),\n ('你币有了', 49529),\n ('狂喜', 49336),\n ('分钟', 49261),\n ('不至于', 48946),\n ('今天', 48864),\n ('干嘛', 48793),\n ('这些', 48742),\n ('多少', 48662),\n ('全体', 48661),\n ('很多', 48641),\n ('10', 48610),\n ('梦想', 48501),\n ('一次', 47034),\n ('火钳刘明', 46448),\n ('地方', 46420),\n ('电影', 46360),\n ('眼睛', 45430),\n ('下次', 44940),\n ('看看', 44655),\n ('小时', 44634),\n ('肯定', 44629),\n ('不用', 44319),\n ('进度条', 44179),\n ('哥哥', 44109),\n ('看着', 43596),\n ('这次一定', 43508),\n ('ohh', 43397),\n ('经典', 43369),\n ('成功', 42638),\n ('打卡', 42187),\n ('别人', 42174),\n ('当时', 42033),\n ('英雄', 41735)]"
     },
     "execution_count": 4,
     "metadata": {},
     "output_type": "execute_result"
    }
   ],
   "source": [
    "\n",
    "reslist=[]\n",
    "for row in dmdf.iterrows():\n",
    "    index, data = row\n",
    "    reslist.append(tuple([index]+data.tolist()))\n",
    "reslist[:200]"
   ],
   "metadata": {
    "collapsed": false
   }
  },
  {
   "cell_type": "code",
   "execution_count": 7,
   "outputs": [],
   "source": [
    "def draw_word_cloud(word_list,n):\n",
    "    (WordCloud()\n",
    "     .add('总出现次数', data_pair=word_list[:n],\n",
    "          word_size_range=[15, 80], width=\"100%\", height=\"100%\")\n",
    "     .set_global_opts(\n",
    "        title_opts=opts.TitleOpts(title=\"Top{}弹幕词云图\".format(n)))\n",
    "     .render('charts/danmaku_wordcloud.html')\n",
    "     )"
   ],
   "metadata": {
    "collapsed": false
   }
  },
  {
   "cell_type": "code",
   "execution_count": 8,
   "outputs": [],
   "source": [
    "draw_word_cloud(reslist,500)"
   ],
   "metadata": {
    "collapsed": false
   }
  },
  {
   "cell_type": "code",
   "execution_count": null,
   "outputs": [],
   "source": [],
   "metadata": {
    "collapsed": false
   }
  }
 ],
 "metadata": {
  "kernelspec": {
   "display_name": "Python 3",
   "language": "python",
   "name": "python3"
  },
  "language_info": {
   "codemirror_mode": {
    "name": "ipython",
    "version": 2
   },
   "file_extension": ".py",
   "mimetype": "text/x-python",
   "name": "python",
   "nbconvert_exporter": "python",
   "pygments_lexer": "ipython2",
   "version": "2.7.6"
  }
 },
 "nbformat": 4,
 "nbformat_minor": 0
}
