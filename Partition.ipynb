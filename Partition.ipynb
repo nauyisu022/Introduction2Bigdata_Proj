{
 "cells": [
  {
   "cell_type": "code",
   "execution_count": 164,
   "outputs": [],
   "source": [
    "from pyecharts import options as opts\n",
    "from pyecharts.charts import Bar\n",
    "from pyecharts.commons.utils import JsCode\n",
    "from pyecharts.globals import ThemeType\n",
    "import pyecharts.options as opts\n",
    "from pyecharts.charts import Line"
   ],
   "metadata": {
    "collapsed": false
   }
  },
  {
   "cell_type": "code",
   "execution_count": 165,
   "metadata": {
    "collapsed": true
   },
   "outputs": [],
   "source": [
    "import pandas as pd\n",
    "import os, glob\n",
    "import seaborn as sns\n",
    "import matplotlib.pyplot as plt\n",
    "\n",
    "from natsort import natsorted"
   ]
  },
  {
   "cell_type": "code",
   "execution_count": 166,
   "outputs": [
    {
     "name": "stdout",
     "output_type": "stream",
     "text": [
      "['data/week_popular_1.csv', 'data/week_popular_2.csv', 'data/week_popular_3.csv', 'data/week_popular_4.csv', 'data/week_popular_5.csv', 'data/week_popular_6.csv', 'data/week_popular_7.csv', 'data/week_popular_8.csv', 'data/week_popular_9.csv', 'data/week_popular_10.csv', 'data/week_popular_11.csv', 'data/week_popular_12.csv', 'data/week_popular_13.csv', 'data/week_popular_14.csv', 'data/week_popular_15.csv', 'data/week_popular_16.csv', 'data/week_popular_17.csv', 'data/week_popular_18.csv', 'data/week_popular_19.csv', 'data/week_popular_20.csv', 'data/week_popular_21.csv', 'data/week_popular_22.csv', 'data/week_popular_23.csv', 'data/week_popular_24.csv', 'data/week_popular_25.csv', 'data/week_popular_26.csv', 'data/week_popular_27.csv', 'data/week_popular_28.csv', 'data/week_popular_29.csv', 'data/week_popular_30.csv', 'data/week_popular_31.csv', 'data/week_popular_32.csv', 'data/week_popular_33.csv', 'data/week_popular_34.csv', 'data/week_popular_35.csv', 'data/week_popular_36.csv', 'data/week_popular_37.csv', 'data/week_popular_38.csv', 'data/week_popular_39.csv', 'data/week_popular_40.csv', 'data/week_popular_41.csv', 'data/week_popular_42.csv', 'data/week_popular_43.csv', 'data/week_popular_44.csv', 'data/week_popular_45.csv', 'data/week_popular_46.csv', 'data/week_popular_47.csv', 'data/week_popular_48.csv', 'data/week_popular_49.csv', 'data/week_popular_50.csv', 'data/week_popular_51.csv', 'data/week_popular_52.csv', 'data/week_popular_53.csv', 'data/week_popular_54.csv', 'data/week_popular_55.csv', 'data/week_popular_56.csv', 'data/week_popular_57.csv', 'data/week_popular_58.csv', 'data/week_popular_59.csv', 'data/week_popular_60.csv', 'data/week_popular_61.csv', 'data/week_popular_62.csv', 'data/week_popular_63.csv', 'data/week_popular_64.csv', 'data/week_popular_65.csv', 'data/week_popular_66.csv', 'data/week_popular_67.csv', 'data/week_popular_68.csv', 'data/week_popular_69.csv', 'data/week_popular_70.csv', 'data/week_popular_71.csv', 'data/week_popular_72.csv', 'data/week_popular_73.csv', 'data/week_popular_74.csv', 'data/week_popular_75.csv', 'data/week_popular_76.csv', 'data/week_popular_77.csv', 'data/week_popular_78.csv', 'data/week_popular_79.csv', 'data/week_popular_80.csv', 'data/week_popular_81.csv', 'data/week_popular_82.csv', 'data/week_popular_83.csv', 'data/week_popular_84.csv', 'data/week_popular_85.csv', 'data/week_popular_86.csv', 'data/week_popular_87.csv', 'data/week_popular_88.csv', 'data/week_popular_89.csv', 'data/week_popular_90.csv', 'data/week_popular_91.csv', 'data/week_popular_92.csv', 'data/week_popular_93.csv', 'data/week_popular_94.csv', 'data/week_popular_95.csv', 'data/week_popular_96.csv', 'data/week_popular_97.csv', 'data/week_popular_98.csv', 'data/week_popular_99.csv', 'data/week_popular_100.csv', 'data/week_popular_101.csv', 'data/week_popular_102.csv', 'data/week_popular_103.csv', 'data/week_popular_104.csv', 'data/week_popular_105.csv', 'data/week_popular_106.csv', 'data/week_popular_107.csv', 'data/week_popular_108.csv', 'data/week_popular_109.csv', 'data/week_popular_110.csv', 'data/week_popular_111.csv', 'data/week_popular_112.csv', 'data/week_popular_113.csv', 'data/week_popular_114.csv', 'data/week_popular_115.csv', 'data/week_popular_116.csv', 'data/week_popular_117.csv', 'data/week_popular_118.csv', 'data/week_popular_119.csv', 'data/week_popular_120.csv', 'data/week_popular_121.csv', 'data/week_popular_122.csv', 'data/week_popular_123.csv', 'data/week_popular_124.csv', 'data/week_popular_125.csv', 'data/week_popular_126.csv', 'data/week_popular_127.csv', 'data/week_popular_128.csv', 'data/week_popular_129.csv', 'data/week_popular_130.csv', 'data/week_popular_131.csv', 'data/week_popular_132.csv', 'data/week_popular_133.csv', 'data/week_popular_134.csv', 'data/week_popular_135.csv', 'data/week_popular_136.csv', 'data/week_popular_137.csv', 'data/week_popular_138.csv', 'data/week_popular_139.csv', 'data/week_popular_140.csv', 'data/week_popular_141.csv', 'data/week_popular_142.csv', 'data/week_popular_143.csv', 'data/week_popular_144.csv', 'data/week_popular_145.csv', 'data/week_popular_146.csv', 'data/week_popular_147.csv', 'data/week_popular_148.csv', 'data/week_popular_149.csv', 'data/week_popular_150.csv', 'data/week_popular_151.csv', 'data/week_popular_152.csv', 'data/week_popular_153.csv', 'data/week_popular_154.csv', 'data/week_popular_155.csv', 'data/week_popular_156.csv', 'data/week_popular_157.csv', 'data/week_popular_158.csv', 'data/week_popular_159.csv', 'data/week_popular_160.csv', 'data/week_popular_161.csv', 'data/week_popular_162.csv', 'data/week_popular_163.csv', 'data/week_popular_164.csv', 'data/week_popular_165.csv', 'data/week_popular_166.csv', 'data/week_popular_167.csv', 'data/week_popular_168.csv', 'data/week_popular_169.csv', 'data/week_popular_170.csv', 'data/week_popular_171.csv', 'data/week_popular_172.csv', 'data/week_popular_173.csv', 'data/week_popular_174.csv', 'data/week_popular_175.csv', 'data/week_popular_176.csv', 'data/week_popular_177.csv', 'data/week_popular_178.csv', 'data/week_popular_179.csv', 'data/week_popular_180.csv', 'data/week_popular_181.csv', 'data/week_popular_182.csv', 'data/week_popular_183.csv', 'data/week_popular_184.csv', 'data/week_popular_185.csv', 'data/week_popular_186.csv', 'data/week_popular_187.csv']\n"
     ]
    }
   ],
   "source": [
    "filepath = 'data'\n",
    "\n",
    "files = glob.glob(r\"data/week_popular_*.csv\")\n",
    "files = natsorted(files)\n",
    "print(files)\n",
    "dfs = []\n",
    "for item in files:\n",
    "    dfs.append(pd.read_csv(item, low_memory=False))\n",
    "all = pd.concat(dfs, ignore_index=True)"
   ],
   "metadata": {
    "collapsed": false
   }
  },
  {
   "cell_type": "code",
   "execution_count": 167,
   "outputs": [
    {
     "data": {
      "text/plain": "(5887, 14)"
     },
     "execution_count": 167,
     "metadata": {},
     "output_type": "execute_result"
    }
   ],
   "source": [
    "all.shape"
   ],
   "metadata": {
    "collapsed": false
   }
  },
  {
   "cell_type": "code",
   "execution_count": 168,
   "outputs": [
    {
     "data": {
      "text/plain": "187"
     },
     "execution_count": 168,
     "metadata": {},
     "output_type": "execute_result"
    }
   ],
   "source": [
    "len(files)"
   ],
   "metadata": {
    "collapsed": false
   }
  },
  {
   "cell_type": "code",
   "execution_count": 169,
   "outputs": [
    {
     "data": {
      "text/plain": "               视频bvid\n视频分类                 \nGMV                19\nMAD·AMV            88\nMMD·3D             31\nMV                 60\nVOCALOID·UTAU      13\n...               ...\n音乐综合               38\n音游                  1\n预告 资讯               4\n鬼畜剧场               62\n鬼畜调教              147\n\n[91 rows x 1 columns]",
      "text/html": "<div>\n<style scoped>\n    .dataframe tbody tr th:only-of-type {\n        vertical-align: middle;\n    }\n\n    .dataframe tbody tr th {\n        vertical-align: top;\n    }\n\n    .dataframe thead th {\n        text-align: right;\n    }\n</style>\n<table border=\"1\" class=\"dataframe\">\n  <thead>\n    <tr style=\"text-align: right;\">\n      <th></th>\n      <th>视频bvid</th>\n    </tr>\n    <tr>\n      <th>视频分类</th>\n      <th></th>\n    </tr>\n  </thead>\n  <tbody>\n    <tr>\n      <th>GMV</th>\n      <td>19</td>\n    </tr>\n    <tr>\n      <th>MAD·AMV</th>\n      <td>88</td>\n    </tr>\n    <tr>\n      <th>MMD·3D</th>\n      <td>31</td>\n    </tr>\n    <tr>\n      <th>MV</th>\n      <td>60</td>\n    </tr>\n    <tr>\n      <th>VOCALOID·UTAU</th>\n      <td>13</td>\n    </tr>\n    <tr>\n      <th>...</th>\n      <td>...</td>\n    </tr>\n    <tr>\n      <th>音乐综合</th>\n      <td>38</td>\n    </tr>\n    <tr>\n      <th>音游</th>\n      <td>1</td>\n    </tr>\n    <tr>\n      <th>预告 资讯</th>\n      <td>4</td>\n    </tr>\n    <tr>\n      <th>鬼畜剧场</th>\n      <td>62</td>\n    </tr>\n    <tr>\n      <th>鬼畜调教</th>\n      <td>147</td>\n    </tr>\n  </tbody>\n</table>\n<p>91 rows × 1 columns</p>\n</div>"
     },
     "execution_count": 169,
     "metadata": {},
     "output_type": "execute_result"
    }
   ],
   "source": [
    "all[['视频bvid', '视频分类']].groupby(['视频分类']).count()"
   ],
   "metadata": {
    "collapsed": false
   }
  },
  {
   "cell_type": "code",
   "execution_count": 170,
   "outputs": [
    {
     "data": {
      "text/plain": "搞笑          581\n单机游戏        407\n日常          371\n短片·手书·配音    307\n美食制作        240\n           ... \n房车            1\n摩托车           1\n大熊猫           1\n音游            1\n赛车            1\nName: 视频分类, Length: 91, dtype: int64"
     },
     "execution_count": 170,
     "metadata": {},
     "output_type": "execute_result"
    }
   ],
   "source": [
    "parition_counts = all['视频分类'].value_counts()\n",
    "type(parition_counts)\n",
    "parition_counts"
   ],
   "metadata": {
    "collapsed": false
   }
  },
  {
   "cell_type": "code",
   "execution_count": 240,
   "outputs": [],
   "source": [
    "par = parition_counts.index.tolist()[:35]\n",
    "times = parition_counts.values.tolist()\n",
    "c = (\n",
    "    Bar(init_opts=opts.InitOpts(theme=ThemeType.LIGHT, width=\"100%\"))\n",
    "    .add_xaxis(par)\n",
    "    .add_yaxis(\"总次数\", times, stack=\"stack1\", category_gap=\"20%\")\n",
    "    .set_series_opts(label_opts=opts.LabelOpts(is_show=False))\n",
    "    # .set_series_opts(\n",
    "    #     label_opts=opts.LabelOpts(\n",
    "    #         position=\"\",\n",
    "    #         formatter=JsCode(\n",
    "    #             \"function(x){return Number(x.data.percent * 100).toFixed() + '%';}\"\n",
    "    #         ),\n",
    "    #     )\n",
    "    # )\n",
    "    .set_global_opts(\n",
    "        title_opts=opts.TitleOpts(title=\"Bar-DataZoom（slider+inside）\"),\n",
    "        #设置操作图表缩放功能，orient=\"vertical\" 为Y轴 滑动\n",
    "        datazoom_opts=[opts.DataZoomOpts(), opts.DataZoomOpts(type_=\"inside\")],\n",
    "    )\n",
    "    .render(\"stack_bar_percent.html\")\n",
    ")\n"
   ],
   "metadata": {
    "collapsed": false
   }
  },
  {
   "cell_type": "code",
   "execution_count": 238,
   "outputs": [
    {
     "data": {
      "text/plain": "[598.7069416666667,\n 224.71479333333332,\n 630.7567384615385,\n 276.02735,\n 287.59543846153844,\n 503.5597916666667,\n 449.0486230769231,\n 501.8192384615385,\n 691.24925,\n 418.2866230769231,\n 605.4052214285715,\n 941.6743818181818,\n 457.4170416666667,\n 596.2379846153846,\n 641.7876363636364,\n 691.2607307692308,\n 628.7216384615385,\n 586.636675,\n 1024.5516615384615,\n 915.7583076923077,\n 699.7649083333333,\n 501.7039357142857,\n 687.0083529411764,\n 653.6871538461538,\n 472.6294782608695,\n 994.0093388888888,\n 516.4863375,\n 456.8178038461538,\n 481.44032608695653,\n 484.2041958333333,\n 657.2436478260869,\n 378.4368625,\n 394.8424272727273,\n 449.2820045454546,\n 542.9627565217392,\n 747.5801473684211,\n 475.5526444444444,\n 599.729625,\n 539.5510782608695,\n 681.874038095238,\n 689.5868545454546,\n 599.7093304347826,\n 408.54760434782605,\n 466.3044608695652,\n 939.268123076923,\n 698.0510541666667,\n 596.2975799999999,\n 774.1540259259259,\n 640.2774076923077,\n 625.1350071428571,\n 638.5970666666667,\n 836.1019719999999,\n 723.7361551724138,\n 752.466173076923,\n 711.3132357142857,\n 829.4139347826086,\n 618.1221916666667,\n 653.892428,\n 538.2609689655172,\n 446.7764615384615,\n 912.5025666666666,\n 509.21801379310347,\n 549.4162068965517,\n 584.4979615384615,\n 469.4376576923077,\n 587.9012642857143,\n 632.8751038461538,\n 568.0391458333334,\n 838.7897275862069,\n 503.43971071428575,\n 816.0814296296296,\n 567.4293730769231,\n 523.5067137931035,\n 591.9228076923077,\n 479.9519,\n 494.5879678571428,\n 528.6003192307692,\n 431.6563071428572,\n 684.0260400000001,\n 567.6276857142857,\n 512.3053416666667,\n 383.5900464285714,\n 547.8362111111111,\n 718.9357464285714,\n 415.35716896551725,\n 353.930505,\n 438.57435599999997,\n 414.3241428571429,\n 463.6097407407408,\n 388.30212400000005,\n 371.83650714285716,\n 428.3111931034483,\n 569.8334166666667,\n 510.0778258064516,\n 494.9737137931035,\n 497.84474666666665,\n 549.5907838709678,\n 653.791109375,\n 579.1327216216216,\n 575.9970566666666,\n 672.7478235294118,\n 497.58489696969696,\n 490.5499323529412,\n 487.5647911764706,\n 446.59158684210524,\n 467.4563153846154,\n 463.3767514285714,\n 489.19895999999994,\n 441.37762000000004,\n 524.034905263158,\n 630.2407921052632,\n 481.601075,\n 414.43613846153846,\n 433.7187205128205,\n 470.28507249999996,\n 463.79616749999997,\n 524.1630611111111,\n 593.5632868421053,\n 538.8827153846154,\n 588.769085,\n 542.5632916666667,\n 733.7184837837838,\n 582.0152944444444,\n 597.879802631579,\n 554.208917948718,\n 761.5311906976744,\n 531.1025702702703,\n 527.2787558139535,\n 519.4055951219513,\n 443.5029027777778,\n 575.597072972973,\n 486.0045083333333,\n 599.930452631579,\n 467.7885365853659,\n 577.3552324324324,\n 452.5778714285714,\n 478.3498261904762,\n 584.0286227272727,\n 566.1327666666667,\n 474.0052189189189,\n 444.3042166666667,\n 473.39280454545457,\n 423.89466279069774,\n 444.96123111111115,\n 486.2152,\n 587.4083866666666,\n 399.22844249999997,\n 506.31275581395346,\n 613.0224808510637,\n 518.3936020833333,\n 484.4283843137255,\n 494.74205106382976,\n 460.4155425531915,\n 470.94993600000004,\n 467.4794659574468,\n 465.0435914893617,\n 534.8759022727272,\n 548.9430224489796,\n 426.0297469387755,\n 405.9871318181818,\n 415.3870025,\n 399.86785142857144,\n 369.96502000000004,\n 426.27227380952377,\n 456.242375,\n 445.50192553191494,\n 428.55200882352943,\n 411.98250526315786,\n 494.6243590909091,\n 520.9416980000001,\n 519.6179622222222,\n 598.2510302325582,\n 484.59376382978724,\n 439.9855520833333,\n 669.5454295454546,\n 426.3973680851064,\n 483.5948325581395,\n 436.3929775510204,\n 455.8537631578947,\n 428.121514,\n 369.2143714285714,\n 403.43169361702127,\n 372.3887235294118,\n 317.3146930232558,\n 372.17901666666666,\n 243.7183925,\n 211.602094]"
     },
     "execution_count": 238,
     "metadata": {},
     "output_type": "execute_result"
    }
   ],
   "source": [
    "play_lists = []\n",
    "for df in dfs:\n",
    "    a = df['播放量'].mean()\n",
    "    play_lists.append(a / 10000)\n",
    "play_lists"
   ],
   "metadata": {
    "collapsed": false
   }
  },
  {
   "cell_type": "code",
   "execution_count": 185,
   "outputs": [],
   "source": [
    "par = list(range(1, 188))\n",
    "times = play_lists\n",
    "c = (\n",
    "    Bar(init_opts=opts.InitOpts(theme=ThemeType.LIGHT, width=\"100%\"))\n",
    "    .add_xaxis(par)\n",
    "    .add_yaxis(\"总次数\", times, stack=\"stack1\", category_gap=\"10%\")\n",
    "    .set_series_opts(label_opts=opts.LabelOpts(is_show=False))\n",
    "    # .set_series_opts(\n",
    "    #     label_opts=opts.LabelOpts(\n",
    "    #         position=\"right\",\n",
    "    #         formatter=JsCode(\n",
    "    #             \"function(x){return Number(x.data.percent * 100).toFixed() + '%';}\"\n",
    "    #         ),\n",
    "    #     )\n",
    "    # )\n",
    "    .render(\"play_times.html\")\n",
    ")\n"
   ],
   "metadata": {
    "collapsed": false
   }
  },
  {
   "cell_type": "code",
   "execution_count": 186,
   "outputs": [
    {
     "data": {
      "text/plain": "[0.02751279274321648,\n 0.040470114131931204,\n 0.04197408738924293,\n 0.033180459420830165,\n 0.02412873939077936,\n 0.04654369495181596,\n 0.04572600592627274,\n 0.028271764606136677,\n 0.027330032236149677,\n 0.02721150298467589,\n 0.023438952594809256,\n 0.03901142937055775,\n 0.035503395925436027,\n 0.05719443106210378,\n 0.05116706687457081,\n 0.02656206922702382,\n 0.037357427580186425,\n 0.041960113841615285,\n 0.0615763445828718,\n 0.07927670367844791,\n 0.047122575892720356,\n 0.03047830528280687,\n 0.05969673970913274,\n 0.06673161579409959,\n 0.05140584434281548,\n 0.03519538808714859,\n 0.03131992334647187,\n 0.04130987114884862,\n 0.038162361988516795,\n 0.018786598873527936,\n 0.041114366964394695,\n 0.03929798527488849,\n 0.053526680735493395,\n 0.037927697183023565,\n 0.03905297083632143,\n 0.04560335540998991,\n 0.04126270586048915,\n 0.0334660493885057,\n 0.037373485403501466,\n 0.054345751667526254,\n 0.034364653966589796,\n 0.03554709032736773,\n 0.029327474785573657,\n 0.06221066090930365,\n 0.05238518933268305,\n 0.06113509975896999,\n 0.06256675400225505,\n 0.0383647216304027,\n 0.043848980459347285,\n 0.043342271859652344,\n 0.042977752481585675,\n 0.05133432217284616,\n 0.046115524525428955,\n 0.04190096866352873,\n 0.051552835578675585,\n 0.037070130268253065,\n 0.03976294438978442,\n 0.04073543423873383,\n 0.03907395746586992,\n 0.02660599156969567,\n 0.03256053347762679,\n 0.03351719334034449,\n 0.03265946863975367,\n 0.0368740774051525,\n 0.041152347328564334,\n 0.03934735663885834,\n 0.03425298515729137,\n 0.03902660904495322,\n 0.036354444361771966,\n 0.036154854093431346,\n 0.03933444622760185,\n 0.05521309981804105,\n 0.04343990002644434,\n 0.05053270004736195,\n 0.037036828682824874,\n 0.0422080988900494,\n 0.04561984642708422,\n 0.04033333695724821,\n 0.044325903148365514,\n 0.0482955716596729,\n 0.04097786507236138,\n 0.04719127552961512,\n 0.0391619685031976,\n 0.03751307817300522,\n 0.040955138410623725,\n 0.038361824731665904,\n 0.034715071211322716,\n 0.04427312604451518,\n 0.048124256488715,\n 0.04095722123837777,\n 0.04982730409299894,\n 0.05242795348783062,\n 0.06546381610649077,\n 0.04752308322640152,\n 0.05280026120788009,\n 0.04343937906639488,\n 0.03309256905591042,\n 0.05026972132799202,\n 0.05291246150283799,\n 0.04544364077971533,\n 0.030819091114728508,\n 0.03161852398618549,\n 0.02913463081712908,\n 0.037544017754647864,\n 0.027708897549587917,\n 0.04799497430619638,\n 0.03404087175888466,\n 0.05198291917873252,\n 0.03811243873216771,\n 0.031718196513868216,\n 0.048868418925646966,\n 0.039840846377771154,\n 0.03431899878744116,\n 0.029423772648208293,\n 0.039417325966688004,\n 0.04897106550583991,\n 0.04112427334025859,\n 0.03268624098164604,\n 0.03504735788590961,\n 0.03440925825784484,\n 0.035242657429853864,\n 0.035917944064259806,\n 0.04356130751928598,\n 0.029391381144753502,\n 0.03268264872325894,\n 0.05092727011697595,\n 0.03382679411277358,\n 0.04007894151923921,\n 0.0427675690111324,\n 0.03881351897703037,\n 0.03740962903399622,\n 0.043379455847868995,\n 0.043167534349113065,\n 0.035308809014704894,\n 0.04989193593848887,\n 0.03035722250292459,\n 0.03294105931947284,\n 0.041515290926315666,\n 0.04412609557739531,\n 0.033850636528799535,\n 0.04460666860438518,\n 0.024854570849038426,\n 0.03920681149916001,\n 0.028378117775993607,\n 0.03234928474775855,\n 0.05584405570511773,\n 0.029398876058285853,\n 0.03821024127080934,\n 0.04335009532085953,\n 0.038317843661980315,\n 0.025711370453042056,\n 0.02277728960878148,\n 0.02830200498111547,\n 0.03290300478987643,\n 0.027359977477040078,\n 0.033660802367792675,\n 0.035691511740083025,\n 0.026339795475074784,\n 0.028649542034470184,\n 0.03428063757820179,\n 0.04440872581226227,\n 0.03816195047523843,\n 0.03826500755588808,\n 0.04245382960158681,\n 0.027496444585661695,\n 0.030419588176195524,\n 0.032032470106603775,\n 0.036931301221835224,\n 0.031700089321226775,\n 0.029516523747346483,\n 0.0302341785011341,\n 0.03867038501450719,\n 0.031644373291673404,\n 0.029971235087667296,\n 0.053467143883701905,\n 0.025728827325053896,\n 0.02909355053123512,\n 0.043030327294544514,\n 0.03290707321132475,\n 0.027976683274085593,\n 0.02482169411503845,\n 0.03282702353747078,\n 0.02839352736450303,\n 0.037902092030743045,\n 0.031072334321552517,\n 0.034312439099154164,\n 0.02845374488590836]"
     },
     "execution_count": 186,
     "metadata": {},
     "output_type": "execute_result"
    }
   ],
   "source": [
    "convert_ratio = []  #播放量与投币量转化比\n",
    "for df in dfs:\n",
    "    a = df['播放量'].mean()\n",
    "    b = df['投币量'].mean()\n",
    "    convert_ratio.append(b / a)\n",
    "convert_ratio"
   ],
   "metadata": {
    "collapsed": false
   }
  },
  {
   "cell_type": "code",
   "execution_count": 187,
   "outputs": [],
   "source": [
    "par = list(range(1, 188))\n",
    "times = convert_ratio\n",
    "c = (\n",
    "    Bar(init_opts=opts.InitOpts(theme=ThemeType.LIGHT, width=\"100%\"))\n",
    "    .add_xaxis(par)\n",
    "    .add_yaxis(\"转化比\", times, stack=\"stack1\", category_gap=\"10%\")\n",
    "    .set_series_opts(label_opts=opts.LabelOpts(is_show=False))\n",
    "    # .set_series_opts(\n",
    "    #     label_opts=opts.LabelOpts(\n",
    "    #         position=\"right\",\n",
    "    #         formatter=JsCode(\n",
    "    #             \"function(x){return Number(x.data.percent * 100).toFixed() + '%';}\"\n",
    "    #         ),\n",
    "    #     )\n",
    "    # )\n",
    "    .render(\"ratio.html\")\n",
    ")"
   ],
   "metadata": {
    "collapsed": false
   }
  },
  {
   "cell_type": "code",
   "execution_count": 226,
   "outputs": [
    {
     "data": {
      "text/plain": "pyecharts.charts.basic_charts.line.Line"
     },
     "execution_count": 226,
     "metadata": {},
     "output_type": "execute_result"
    }
   ],
   "source": [
    "x_data = list(range(1, 188))\n",
    "for a in x_data:\n",
    "    a = str(a)\n",
    "y_data1 = play_lists\n",
    "y_data2 = convert_ratio\n",
    "\n",
    "\n"
   ],
   "metadata": {
    "collapsed": false
   }
  },
  {
   "cell_type": "code",
   "execution_count": 234,
   "outputs": [
    {
     "data": {
      "text/plain": "pyecharts.charts.basic_charts.line.Line"
     },
     "execution_count": 234,
     "metadata": {},
     "output_type": "execute_result"
    }
   ],
   "source": [
    "line1 = Line()\n",
    "(\n",
    "    line1.set_global_opts(\n",
    "        tooltip_opts=opts.TooltipOpts(is_show=False),\n",
    "        xaxis_opts=opts.AxisOpts(type_=\"category\"),\n",
    "        yaxis_opts=opts.AxisOpts(\n",
    "            type_=\"value\",\n",
    "            axistick_opts=opts.AxisTickOpts(is_show=True),\n",
    "            splitline_opts=opts.SplitLineOpts(is_show=True),\n",
    "        ),\n",
    "    )\n",
    "    .add_xaxis(xaxis_data=x_data).add_yaxis(\n",
    "        series_name=\"\",\n",
    "        y_axis=y_data1,\n",
    "        symbol=\"emptyCircle\",\n",
    "        is_symbol_show=True,\n",
    "        label_opts=opts.LabelOpts(is_show=False),\n",
    "    )\n",
    "    .extend_axis(yaxis=opts.AxisOpts(\n",
    "        axislabel_opts=opts.LabelOpts(formatter=\"{value}\"),\n",
    "        axisline_opts=opts.AxisLineOpts(linestyle_opts=opts.LineStyleOpts(color='blue'))\n",
    "    )\n",
    "    )  # 添加一条蓝色y轴\n",
    "    .set_global_opts(\n",
    "        title_opts=opts.TitleOpts(title=\"Bar-DataZoom（slider+inside）\"),\n",
    "        #设置操作图表缩放功能，orient=\"vertical\" 为Y轴 滑动\n",
    "        datazoom_opts=[opts.DataZoomOpts(), opts.DataZoomOpts(type_=\"inside\")],\n",
    "    )\n",
    ")\n",
    "\n",
    "line2 = Line()\n",
    "(\n",
    "    line2.set_global_opts(\n",
    "        tooltip_opts=opts.TooltipOpts(is_show=False),\n",
    "        xaxis_opts=opts.AxisOpts(type_=\"category\"),\n",
    "        yaxis_opts=opts.AxisOpts(\n",
    "            type_=\"value\",\n",
    "            axistick_opts=opts.AxisTickOpts(is_show=True),\n",
    "            splitline_opts=opts.SplitLineOpts(is_show=True),\n",
    "        ),\n",
    "    )\n",
    "    .add_xaxis(xaxis_data=x_data)\n",
    "    .add_yaxis(\n",
    "        series_name=\"\",\n",
    "        y_axis=y_data2,\n",
    "        is_symbol_show=True,\n",
    "        yaxis_index=1,\n",
    "        label_opts=opts.LabelOpts(is_show=False))\n",
    ")\n",
    "line1.overlap(line2)\n",
    "line1.render(\"basic_line_chart.html\")\n",
    "type(line1)"
   ],
   "metadata": {
    "collapsed": false
   }
  },
  {
   "cell_type": "code",
   "execution_count": 227,
   "outputs": [],
   "source": [],
   "metadata": {
    "collapsed": false
   }
  },
  {
   "cell_type": "code",
   "execution_count": 188,
   "outputs": [],
   "source": [],
   "metadata": {
    "collapsed": false
   }
  }
 ],
 "metadata": {
  "kernelspec": {
   "display_name": "Python 3",
   "language": "python",
   "name": "python3"
  },
  "language_info": {
   "codemirror_mode": {
    "name": "ipython",
    "version": 2
   },
   "file_extension": ".py",
   "mimetype": "text/x-python",
   "name": "python",
   "nbconvert_exporter": "python",
   "pygments_lexer": "ipython2",
   "version": "2.7.6"
  }
 },
 "nbformat": 4,
 "nbformat_minor": 0
}
