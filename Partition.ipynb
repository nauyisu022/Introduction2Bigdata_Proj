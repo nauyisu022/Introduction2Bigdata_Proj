{
 "cells": [
  {
   "cell_type": "code",
   "execution_count": null,
   "outputs": [],
   "source": [],
   "metadata": {
    "collapsed": false
   }
  },
  {
   "cell_type": "code",
   "execution_count": 2,
   "metadata": {
    "collapsed": true
   },
   "outputs": [],
   "source": [
    "import pandas as pd\n",
    "import os, glob\n",
    "import pyecharts\n",
    "from pyecharts import options as opts\n",
    "from pyecharts.charts import Bar\n",
    "from pyecharts.commons.utils import JsCode\n",
    "from pyecharts.globals import ThemeType\n",
    "import collections"
   ]
  },
  {
   "cell_type": "code",
   "execution_count": 18,
   "outputs": [
    {
     "name": "stdout",
     "output_type": "stream",
     "text": [
      "187\n"
     ]
    }
   ],
   "source": [
    "filepath = 'data'\n",
    "\n",
    "files = glob.glob('data/week_popular_*.csv')\n",
    "print(len(files))\n",
    "df = []\n",
    "for item in files:\n",
    "    df.append(pd.read_csv(item, low_memory=False))\n",
    "big_frame = pd.concat(df, ignore_index=True)"
   ],
   "metadata": {
    "collapsed": false
   }
  },
  {
   "cell_type": "code",
   "execution_count": 19,
   "outputs": [
    {
     "data": {
      "text/plain": "0     BV1Ju411y76n\n1     BV1ir4y1H74w\n2     BV1JS4y1e7DQ\n3     BV1ZF411g7EZ\n4     BV12u411C7EH\n5     BV1ii4y1U7fS\n6     BV18u411v7wW\n7     BV1UA4y197Y9\n8     BV1dR4y1N7Qx\n9     BV1TS4y1A79z\n10    BV1S94y1d7dm\n11    BV1iY411P7HR\n12    BV1XZ4y1y7du\n13    BV1JY4y1p7NM\n14    BV1VY4y1a78f\n15    BV1nT4y1e7hf\n16    BV1ha411v7d4\n17    BV1zR4y1N7da\n18    BV1GY4y1p7fd\n19    BV1Ja411v7DK\n20    BV1Za411e7jd\n21    BV19u411C7aK\n22    BV1BS4y1A7We\n23    BV1zu411C7iU\n24    BV1vA4y197mu\n25    BV12F411g7yu\n26    BV1V5411m77u\n27    BV16r4y1n7QT\n28    BV1Y541127Hp\n29    BV1vS4y1A7fB\n30    BV1w44y1G7Pr\n31    BV1ji4y1U7UC\n32    BV1HY4y1v7FU\n33    BV1gL4y1L7pP\n34    BV1ti4y1S7XQ\n35    BV1QY4y1a7Qf\n36    BV1h44y1G7v7\n37    BV1xr4y1H7xY\n38    BV1GY4y1v7Rt\n39    BV1kS4y1A7Ac\nName: 视频bvid, dtype: object"
     },
     "execution_count": 19,
     "metadata": {},
     "output_type": "execute_result"
    }
   ],
   "source": [
    "df[1]['视频bvid']\n"
   ],
   "metadata": {
    "collapsed": false
   }
  },
  {
   "cell_type": "code",
   "execution_count": 13,
   "outputs": [
    {
     "data": {
      "text/plain": "          视频bvid\n视频分类            \nMAD·AMV        1\nMMD·3D         1\n人文历史           1\n单机游戏           2\n喵星人            1\n影视杂谈           2\n手工             2\n手机游戏           2\n搞笑             5\n数码             1\n日常             2\n极客DIY          1\n桌游棋牌           1\n演奏             1\n电子竞技           2\n短片·手书·配音       3\n科学科普           1\n绘画             2\n综合             1\n网络游戏           1\n美妆护肤           1\n美食制作           3\n设计·创意          1\n赛车             1\n运动综合           1",
      "text/html": "<div>\n<style scoped>\n    .dataframe tbody tr th:only-of-type {\n        vertical-align: middle;\n    }\n\n    .dataframe tbody tr th {\n        vertical-align: top;\n    }\n\n    .dataframe thead th {\n        text-align: right;\n    }\n</style>\n<table border=\"1\" class=\"dataframe\">\n  <thead>\n    <tr style=\"text-align: right;\">\n      <th></th>\n      <th>视频bvid</th>\n    </tr>\n    <tr>\n      <th>视频分类</th>\n      <th></th>\n    </tr>\n  </thead>\n  <tbody>\n    <tr>\n      <th>MAD·AMV</th>\n      <td>1</td>\n    </tr>\n    <tr>\n      <th>MMD·3D</th>\n      <td>1</td>\n    </tr>\n    <tr>\n      <th>人文历史</th>\n      <td>1</td>\n    </tr>\n    <tr>\n      <th>单机游戏</th>\n      <td>2</td>\n    </tr>\n    <tr>\n      <th>喵星人</th>\n      <td>1</td>\n    </tr>\n    <tr>\n      <th>影视杂谈</th>\n      <td>2</td>\n    </tr>\n    <tr>\n      <th>手工</th>\n      <td>2</td>\n    </tr>\n    <tr>\n      <th>手机游戏</th>\n      <td>2</td>\n    </tr>\n    <tr>\n      <th>搞笑</th>\n      <td>5</td>\n    </tr>\n    <tr>\n      <th>数码</th>\n      <td>1</td>\n    </tr>\n    <tr>\n      <th>日常</th>\n      <td>2</td>\n    </tr>\n    <tr>\n      <th>极客DIY</th>\n      <td>1</td>\n    </tr>\n    <tr>\n      <th>桌游棋牌</th>\n      <td>1</td>\n    </tr>\n    <tr>\n      <th>演奏</th>\n      <td>1</td>\n    </tr>\n    <tr>\n      <th>电子竞技</th>\n      <td>2</td>\n    </tr>\n    <tr>\n      <th>短片·手书·配音</th>\n      <td>3</td>\n    </tr>\n    <tr>\n      <th>科学科普</th>\n      <td>1</td>\n    </tr>\n    <tr>\n      <th>绘画</th>\n      <td>2</td>\n    </tr>\n    <tr>\n      <th>综合</th>\n      <td>1</td>\n    </tr>\n    <tr>\n      <th>网络游戏</th>\n      <td>1</td>\n    </tr>\n    <tr>\n      <th>美妆护肤</th>\n      <td>1</td>\n    </tr>\n    <tr>\n      <th>美食制作</th>\n      <td>3</td>\n    </tr>\n    <tr>\n      <th>设计·创意</th>\n      <td>1</td>\n    </tr>\n    <tr>\n      <th>赛车</th>\n      <td>1</td>\n    </tr>\n    <tr>\n      <th>运动综合</th>\n      <td>1</td>\n    </tr>\n  </tbody>\n</table>\n</div>"
     },
     "execution_count": 13,
     "metadata": {},
     "output_type": "execute_result"
    }
   ],
   "source": [
    "df[1][['视频bvid','视频分类']].groupby(['视频分类']).count()\n"
   ],
   "metadata": {
    "collapsed": false
   }
  },
  {
   "cell_type": "code",
   "execution_count": null,
   "outputs": [],
   "source": [],
   "metadata": {
    "collapsed": false
   }
  }
 ],
 "metadata": {
  "kernelspec": {
   "display_name": "Python 3",
   "language": "python",
   "name": "python3"
  },
  "language_info": {
   "codemirror_mode": {
    "name": "ipython",
    "version": 2
   },
   "file_extension": ".py",
   "mimetype": "text/x-python",
   "name": "python",
   "nbconvert_exporter": "python",
   "pygments_lexer": "ipython2",
   "version": "2.7.6"
  }
 },
 "nbformat": 4,
 "nbformat_minor": 0
}
