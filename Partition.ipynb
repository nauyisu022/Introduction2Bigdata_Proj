{
 "cells": [
  {
   "cell_type": "code",
   "execution_count": null,
   "outputs": [],
   "source": [],
   "metadata": {
    "collapsed": false
   }
  },
  {
   "cell_type": "code",
   "execution_count": 27,
   "metadata": {
    "collapsed": true
   },
   "outputs": [],
   "source": [
    "import pandas as pd\n",
    "import os, glob"
   ]
  },
  {
   "cell_type": "code",
   "execution_count": 30,
   "outputs": [
    {
     "name": "stdout",
     "output_type": "stream",
     "text": [
      "['data/videoTop_Fri Oct 14 14:18:53 2022.csv', 'data/videoTop_Fri Oct 14 16:06:59 2022.csv']\n"
     ]
    }
   ],
   "source": [
    "filepath = 'data'\n",
    "\n",
    "files = glob.glob(filepath + \"/*.csv\")\n",
    "print(files)\n",
    "df = []\n",
    "for item in files:\n",
    "    df.append(pd.read_csv(item, low_memory=False))\n"
   ],
   "metadata": {
    "collapsed": false
   }
  },
  {
   "cell_type": "code",
   "execution_count": 31,
   "outputs": [
    {
     "data": {
      "text/plain": "(100, 12)"
     },
     "execution_count": 31,
     "metadata": {},
     "output_type": "execute_result"
    }
   ],
   "source": [
    "df[1].shape\n"
   ],
   "metadata": {
    "collapsed": false
   }
  },
  {
   "cell_type": "code",
   "execution_count": 34,
   "outputs": [
    {
     "data": {
      "text/plain": "        视频bvid  videos\n视频分类                  \n人文历史         4       4\n健身           1       1\n出行           1       1\n动漫杂谈         1       1\n单机游戏         3       3\n喵星人          4       4\n娱乐杂谈         1       1\n小剧场          1       1\n影视剪辑         1       1\n影视杂谈         7       7\n手办·模玩        2       2\n手工           2       2\n手机游戏         2       2\n搞笑           9       9\n摩托车          2       2\n数码           4       4\n日常          11      11\n桌游棋牌         1       1\n汽车生活         1       1\n热点           1       1\n电子竞技        10      10\n社会           1       1\n科学科普         1       1\n粉丝创作         1       1\n综合           3       3\n网络游戏         3       3\n美食侦探         5       5\n美食制作         4       4\n美食测评         2       2\n翻唱           2       2\n舞蹈综合         2       2\n设计·创意        1       1\n软件应用         1       1\n野生技能协会       1       1\n预告 资讯        1       1\n鬼畜剧场         2       2\n鬼畜调教         1       1",
      "text/html": "<div>\n<style scoped>\n    .dataframe tbody tr th:only-of-type {\n        vertical-align: middle;\n    }\n\n    .dataframe tbody tr th {\n        vertical-align: top;\n    }\n\n    .dataframe thead th {\n        text-align: right;\n    }\n</style>\n<table border=\"1\" class=\"dataframe\">\n  <thead>\n    <tr style=\"text-align: right;\">\n      <th></th>\n      <th>视频bvid</th>\n      <th>videos</th>\n    </tr>\n    <tr>\n      <th>视频分类</th>\n      <th></th>\n      <th></th>\n    </tr>\n  </thead>\n  <tbody>\n    <tr>\n      <th>人文历史</th>\n      <td>4</td>\n      <td>4</td>\n    </tr>\n    <tr>\n      <th>健身</th>\n      <td>1</td>\n      <td>1</td>\n    </tr>\n    <tr>\n      <th>出行</th>\n      <td>1</td>\n      <td>1</td>\n    </tr>\n    <tr>\n      <th>动漫杂谈</th>\n      <td>1</td>\n      <td>1</td>\n    </tr>\n    <tr>\n      <th>单机游戏</th>\n      <td>3</td>\n      <td>3</td>\n    </tr>\n    <tr>\n      <th>喵星人</th>\n      <td>4</td>\n      <td>4</td>\n    </tr>\n    <tr>\n      <th>娱乐杂谈</th>\n      <td>1</td>\n      <td>1</td>\n    </tr>\n    <tr>\n      <th>小剧场</th>\n      <td>1</td>\n      <td>1</td>\n    </tr>\n    <tr>\n      <th>影视剪辑</th>\n      <td>1</td>\n      <td>1</td>\n    </tr>\n    <tr>\n      <th>影视杂谈</th>\n      <td>7</td>\n      <td>7</td>\n    </tr>\n    <tr>\n      <th>手办·模玩</th>\n      <td>2</td>\n      <td>2</td>\n    </tr>\n    <tr>\n      <th>手工</th>\n      <td>2</td>\n      <td>2</td>\n    </tr>\n    <tr>\n      <th>手机游戏</th>\n      <td>2</td>\n      <td>2</td>\n    </tr>\n    <tr>\n      <th>搞笑</th>\n      <td>9</td>\n      <td>9</td>\n    </tr>\n    <tr>\n      <th>摩托车</th>\n      <td>2</td>\n      <td>2</td>\n    </tr>\n    <tr>\n      <th>数码</th>\n      <td>4</td>\n      <td>4</td>\n    </tr>\n    <tr>\n      <th>日常</th>\n      <td>11</td>\n      <td>11</td>\n    </tr>\n    <tr>\n      <th>桌游棋牌</th>\n      <td>1</td>\n      <td>1</td>\n    </tr>\n    <tr>\n      <th>汽车生活</th>\n      <td>1</td>\n      <td>1</td>\n    </tr>\n    <tr>\n      <th>热点</th>\n      <td>1</td>\n      <td>1</td>\n    </tr>\n    <tr>\n      <th>电子竞技</th>\n      <td>10</td>\n      <td>10</td>\n    </tr>\n    <tr>\n      <th>社会</th>\n      <td>1</td>\n      <td>1</td>\n    </tr>\n    <tr>\n      <th>科学科普</th>\n      <td>1</td>\n      <td>1</td>\n    </tr>\n    <tr>\n      <th>粉丝创作</th>\n      <td>1</td>\n      <td>1</td>\n    </tr>\n    <tr>\n      <th>综合</th>\n      <td>3</td>\n      <td>3</td>\n    </tr>\n    <tr>\n      <th>网络游戏</th>\n      <td>3</td>\n      <td>3</td>\n    </tr>\n    <tr>\n      <th>美食侦探</th>\n      <td>5</td>\n      <td>5</td>\n    </tr>\n    <tr>\n      <th>美食制作</th>\n      <td>4</td>\n      <td>4</td>\n    </tr>\n    <tr>\n      <th>美食测评</th>\n      <td>2</td>\n      <td>2</td>\n    </tr>\n    <tr>\n      <th>翻唱</th>\n      <td>2</td>\n      <td>2</td>\n    </tr>\n    <tr>\n      <th>舞蹈综合</th>\n      <td>2</td>\n      <td>2</td>\n    </tr>\n    <tr>\n      <th>设计·创意</th>\n      <td>1</td>\n      <td>1</td>\n    </tr>\n    <tr>\n      <th>软件应用</th>\n      <td>1</td>\n      <td>1</td>\n    </tr>\n    <tr>\n      <th>野生技能协会</th>\n      <td>1</td>\n      <td>1</td>\n    </tr>\n    <tr>\n      <th>预告 资讯</th>\n      <td>1</td>\n      <td>1</td>\n    </tr>\n    <tr>\n      <th>鬼畜剧场</th>\n      <td>2</td>\n      <td>2</td>\n    </tr>\n    <tr>\n      <th>鬼畜调教</th>\n      <td>1</td>\n      <td>1</td>\n    </tr>\n  </tbody>\n</table>\n</div>"
     },
     "execution_count": 34,
     "metadata": {},
     "output_type": "execute_result"
    }
   ],
   "source": [
    "df[1][['视频bvid','视频分类','videosd']].groupby(['视频分类']).count()\n"
   ],
   "metadata": {
    "collapsed": false
   }
  }
 ],
 "metadata": {
  "kernelspec": {
   "display_name": "Python 3",
   "language": "python",
   "name": "python3"
  },
  "language_info": {
   "codemirror_mode": {
    "name": "ipython",
    "version": 2
   },
   "file_extension": ".py",
   "mimetype": "text/x-python",
   "name": "python",
   "nbconvert_exporter": "python",
   "pygments_lexer": "ipython2",
   "version": "2.7.6"
  }
 },
 "nbformat": 4,
 "nbformat_minor": 0
}
